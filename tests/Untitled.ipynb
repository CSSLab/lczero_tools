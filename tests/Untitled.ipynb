{
 "cells": [
  {
   "cell_type": "code",
   "execution_count": 1,
   "metadata": {},
   "outputs": [
    {
     "name": "stdout",
     "output_type": "stream",
     "text": [
      "Test pytorch\n",
      "Loading network using backend=pytorch_cuda, policy_softmax_temp=2.2\n",
      "Channels 256\n",
      "Blocks 20\n",
      "Enabling CUDA!\n",
      "r n b q k b n r\n",
      "p p p p p p p p\n",
      ". . . . . . . .\n",
      ". . . . . . . .\n",
      ". . . . . . . .\n",
      ". . . . . . . .\n",
      "P P P P P P P P\n",
      "R N B Q K B N R\n",
      "Turn: White\n",
      "Policy: {\n",
      "   \"d2d4\": 0.11119775474071503,\n",
      "   \"c2c4\": 0.09062506258487701,\n",
      "   \"e2e4\": 0.0897584781050682,\n",
      "   \"g1f3\": 0.07733798772096634,\n",
      "   \"e2e3\": 0.05697071924805641,\n",
      "   \"g2g3\": 0.05233848839998245,\n",
      "   \"c2c3\": 0.046211354434490204,\n",
      "   \"a2a3\": 0.04585567116737366,\n",
      "   \"d2d3\": 0.04334000498056412,\n",
      "   \"h2h3\": 0.043053533881902695,\n",
      "   \"b1c3\": 0.042753130197525024,\n",
      "   \"a2a4\": 0.03928161412477493,\n",
      "   \"b2b3\": 0.03883354365825653,\n",
      "   \"f2f4\": 0.03694486990571022,\n",
      "   \"h2h4\": 0.03529586270451546,\n",
      "   \"b2b4\": 0.03448859602212906,\n",
      "   \"b1a3\": 0.03385066241025925,\n",
      "   \"g1h3\": 0.02947886288166046,\n",
      "   \"f2f3\": 0.0273781456053257,\n",
      "   \"g2g4\": 0.025005634874105453\n",
      "}\n",
      "Value: 0.5136711187660694\n",
      "r n b q k b n r\n",
      "p p p p p p p p\n",
      ". . . . . . . .\n",
      ". . . . . . . .\n",
      ". . . . P . . .\n",
      ". . . . . . . .\n",
      "P P P P . P P P\n",
      "R N B Q K B N R\n",
      "Turn: Black\n",
      "Policy: {\n",
      "   \"c7c5\": 0.16294705867767334,\n",
      "   \"e7e6\": 0.07480539381504059,\n",
      "   \"d7d6\": 0.05852973461151123,\n",
      "   \"e7e5\": 0.05767476186156273,\n",
      "   \"g7g6\": 0.05732332542538643,\n",
      "   \"b8c6\": 0.05544520914554596,\n",
      "   \"h7h6\": 0.04756679758429527,\n",
      "   \"a7a6\": 0.04726424440741539,\n",
      "   \"g8f6\": 0.044885676354169846,\n",
      "   \"d7d5\": 0.04398905485868454,\n",
      "   \"c7c6\": 0.042789630591869354,\n",
      "   \"a7a5\": 0.041947197169065475,\n",
      "   \"b7b6\": 0.041355591267347336,\n",
      "   \"b8a6\": 0.038210757076740265,\n",
      "   \"h7h5\": 0.036929767578840256,\n",
      "   \"g8h6\": 0.03256430849432945,\n",
      "   \"f7f6\": 0.030394941568374634,\n",
      "   \"g7g5\": 0.028698161244392395,\n",
      "   \"f7f5\": 0.028635870665311813,\n",
      "   \"b7b5\": 0.028042595833539963\n",
      "}\n",
      "Value: 0.47063818387687206\n"
     ]
    }
   ],
   "source": [
    "import json\n",
    "import sys\n",
    "import os\n",
    "import numpy as np\n",
    "\n",
    "\n",
    "\n",
    "import lcztools\n",
    "\n",
    "def json_default(obj):\n",
    "    # Serialize numpy floats\n",
    "    if isinstance(obj, np.floating):\n",
    "        return float(obj)\n",
    "    raise TypeError\n",
    "\n",
    "print(\"Test pytorch\")\n",
    "lcz_net = lcztools.load_network()\n",
    "lcz_board = lcztools.LeelaBoard()\n",
    "print(lcz_board)\n",
    "\n",
    "# import torch\n",
    "# features = lcz_board.lcz_features()\n",
    "# half_features = torch.HalfTensor(features)\n",
    "# half_model = lcz_net.model.half()\n",
    "# # lcz_net.model(half_features)\n",
    "# half_model(half_features)\n",
    "\n",
    "# blah\n",
    "\n",
    "policy, value = lcz_net.evaluate(lcz_board)\n",
    "print('Policy: {}'.format(json.dumps(policy, default=json_default, indent=3)))\n",
    "print('Value: {}'.format(value))\n",
    "\n",
    "lcz_board.push_uci('e2e4')\n",
    "print(lcz_board)\n",
    "policy, value = lcz_net.evaluate(lcz_board)\n",
    "print('Policy: {}'.format(json.dumps(policy, default=json_default, indent=3)))\n",
    "print('Value: {}'.format(value))\n"
   ]
  },
  {
   "cell_type": "code",
   "execution_count": null,
   "metadata": {},
   "outputs": [],
   "source": [
    "model = lcz_net.model\n",
    "model.is_half = True\n",
    "model.half()\n",
    "features = lcz_board.lcz_features()\n",
    "# policy, value = lcz_net.model(features)"
   ]
  },
  {
   "cell_type": "code",
   "execution_count": null,
   "metadata": {},
   "outputs": [],
   "source": [
    "%%timeit\n",
    "policy, value = lcz_net.model(features)"
   ]
  },
  {
   "cell_type": "code",
   "execution_count": null,
   "metadata": {},
   "outputs": [],
   "source": [
    "%%timeit\n",
    "policy, value = lcz_net.evaluate(lcz_board)"
   ]
  },
  {
   "cell_type": "code",
   "execution_count": null,
   "metadata": {},
   "outputs": [],
   "source": [
    "lcz_net.model(np.stack([features]*10))"
   ]
  },
  {
   "cell_type": "code",
   "execution_count": null,
   "metadata": {},
   "outputs": [],
   "source": [
    "import torch\n",
    "features_stack = np.stack([features]*256)\n",
    "features_stack = torch.HalfTensor(features_stack).cuda()"
   ]
  },
  {
   "cell_type": "code",
   "execution_count": null,
   "metadata": {},
   "outputs": [],
   "source": [
    "%%timeit\n",
    "lcz_net.model(features_stack)"
   ]
  },
  {
   "cell_type": "code",
   "execution_count": null,
   "metadata": {},
   "outputs": [],
   "source": [
    "features = lcz_board.lcz_features()"
   ]
  },
  {
   "cell_type": "code",
   "execution_count": null,
   "metadata": {},
   "outputs": [],
   "source": [
    "%%timeit\n",
    "lcz_board.push_uci('c7c5')\n",
    "lcz_board.pop()"
   ]
  },
  {
   "cell_type": "code",
   "execution_count": null,
   "metadata": {},
   "outputs": [],
   "source": [
    "256/37.9*1000"
   ]
  },
  {
   "cell_type": "code",
   "execution_count": null,
   "metadata": {},
   "outputs": [],
   "source": [
    "1000/4.63"
   ]
  },
  {
   "cell_type": "code",
   "execution_count": null,
   "metadata": {},
   "outputs": [],
   "source": [
    "stuff = half_features.flatten()"
   ]
  },
  {
   "cell_type": "code",
   "execution_count": null,
   "metadata": {},
   "outputs": [],
   "source": [
    "s = half_features.unsqueeze(0)"
   ]
  },
  {
   "cell_type": "code",
   "execution_count": null,
   "metadata": {},
   "outputs": [],
   "source": [
    "s.numpy().shape"
   ]
  },
  {
   "cell_type": "code",
   "execution_count": null,
   "metadata": {},
   "outputs": [],
   "source": [
    "half_features.ndimension()"
   ]
  },
  {
   "cell_type": "code",
   "execution_count": null,
   "metadata": {},
   "outputs": [],
   "source": [
    "s.flatten().numpy().shape"
   ]
  },
  {
   "cell_type": "code",
   "execution_count": null,
   "metadata": {},
   "outputs": [],
   "source": [
    "import torch\n",
    "features = lcz_board.lcz_features()\n",
    "half_features = torch.HalfTensor(features)\n",
    "half_model = lcz_net.model.half()\n",
    "# lcz_net.model(half_features)\n",
    "half_model(half_features)\n"
   ]
  },
  {
   "cell_type": "code",
   "execution_count": null,
   "metadata": {},
   "outputs": [],
   "source": [
    "import torch\n",
    "t = torch.HalfTensor(features)"
   ]
  },
  {
   "cell_type": "code",
   "execution_count": null,
   "metadata": {},
   "outputs": [],
   "source": [
    "# t.view(-1,112,8,8).shape\n",
    "t.cuda().view(-1,112,8,8).half()"
   ]
  },
  {
   "cell_type": "code",
   "execution_count": null,
   "metadata": {},
   "outputs": [],
   "source": [
    "lcz_net.model.half??"
   ]
  },
  {
   "cell_type": "code",
   "execution_count": null,
   "metadata": {},
   "outputs": [],
   "source": []
  }
 ],
 "metadata": {
  "kernelspec": {
   "display_name": "Python [conda env:luna]",
   "language": "python",
   "name": "conda-env-luna-py"
  },
  "language_info": {
   "codemirror_mode": {
    "name": "ipython",
    "version": 3
   },
   "file_extension": ".py",
   "mimetype": "text/x-python",
   "name": "python",
   "nbconvert_exporter": "python",
   "pygments_lexer": "ipython3",
   "version": "3.7.0"
  }
 },
 "nbformat": 4,
 "nbformat_minor": 2
}
